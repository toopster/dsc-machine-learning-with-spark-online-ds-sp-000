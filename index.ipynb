{
 "cells": [
  {
   "cell_type": "markdown",
   "metadata": {},
   "source": [
    "# Machine Learning with Spark\n",
    "\n",
    "## Introduction\n",
    "\n",
    "You've now explored how to perform operations on Spark RDDs for simple MapReduce tasks. Luckily, there are far more advanced use cases for Spark, and many of them are found in the `ml` library, which we are going to explore in this lesson.\n",
    "\n",
    "\n",
    "## Objectives\n",
    "\n",
    "You will be able to: \n",
    "\n",
    "- Load and manipulate data using Spark DataFrames  \n",
    "- Define estimators and transformers in Spark ML \n",
    "- Create a Spark ML pipeline that transforms data and runs over a grid of hyperparameters \n",
    "\n",
    "\n",
    "\n",
    "## A Tale of Two Libraries\n",
    "\n",
    "If you look at the PySpark documentation, you'll notice that there are two different libraries for machine learning, [mllib](https://spark.apache.org/docs/latest/api/python/pyspark.mllib.html) and [ml](https://spark.apache.org/docs/latest/api/python/pyspark.ml.html). These libraries are extremely similar to one another, the only difference being that the `mllib` library is built upon the RDDs you just practiced using; whereas, the `ml` library is built on higher level Spark DataFrames, which has methods and attributes similar to pandas. Spark has stated that in the future, it is going to devote more effort to the `ml` library and that `mllib` will become deprecated. It's important to note that these libraries are much younger than pandas and scikit-learn and there are not as many features present in either.\n",
    "\n",
    "## Spark DataFrames\n",
    "\n",
    "In the previous lessons, you were introduced to SparkContext as the primary way to connect with a Spark Application. Here, we will be using SparkSession, which is from the [sql](https://spark.apache.org/docs/latest/api/python/pyspark.sql.html) component of PySpark. The SparkSession acts the same way as SparkContext; it is a bridge between Python and the Spark Application. It's just built on top of the Spark SQL API, a higher-level API than RDDs. In fact, a SparkContext object is spun up around which the SparkSession object is wrapped. Let's go through the process of manipulating some data here. For this example, we're going to be using the [Forest Fire dataset](https://archive.ics.uci.edu/ml/datasets/Forest+Fires) from UCI, which contains data about the area burned by wildfires in the Northeast region of Portugal in relation to numerous other factors.\n",
    "\n",
    "To begin with, let's create a SparkSession so that we can spin up our spark application. "
   ]
  },
  {
   "cell_type": "code",
   "execution_count": 1,
   "metadata": {},
   "outputs": [],
   "source": [
    "# importing the necessary libraries\n",
    "from pyspark import SparkContext\n",
    "from pyspark.sql import SparkSession\n",
    "# sc = SparkContext('local[*]')\n",
    "# spark = SparkSession(sc)"
   ]
  },
  {
   "cell_type": "markdown",
   "metadata": {},
   "source": [
    "To create a SparkSession: "
   ]
  },
  {
   "cell_type": "code",
   "execution_count": 2,
   "metadata": {},
   "outputs": [],
   "source": [
    "spark = SparkSession.builder.master('local').getOrCreate()"
   ]
  },
  {
   "cell_type": "markdown",
   "metadata": {},
   "source": [
    "Now, we'll load the data into a PySpark DataFrame: "
   ]
  },
  {
   "cell_type": "code",
   "execution_count": 3,
   "metadata": {},
   "outputs": [
    {
     "data": {
      "text/plain": [
       "pyspark.sql.dataframe.DataFrame"
      ]
     },
     "execution_count": 3,
     "metadata": {},
     "output_type": "execute_result"
    }
   ],
   "source": [
    "## reading in pyspark df\n",
    "spark_df = spark.read.csv('./forestfires.csv', header='true', inferSchema='true')\n",
    "\n",
    "## observing the datatype of df\n",
    "type(spark_df)"
   ]
  },
  {
   "cell_type": "markdown",
   "metadata": {},
   "source": [
    "You'll notice that some of the methods are extremely similar or the same as those found within Pandas."
   ]
  },
  {
   "cell_type": "code",
   "execution_count": 4,
   "metadata": {},
   "outputs": [
    {
     "data": {
      "text/plain": [
       "Row(X=7, Y=5, month='mar', day='fri', FFMC=86.2, DMC=26.2, DC=94.3, ISI=5.1, temp=8.2, RH=51, wind=6.7, rain=0.0, area=0.0)"
      ]
     },
     "execution_count": 4,
     "metadata": {},
     "output_type": "execute_result"
    }
   ],
   "source": [
    "spark_df.head()"
   ]
  },
  {
   "cell_type": "code",
   "execution_count": 5,
   "metadata": {},
   "outputs": [
    {
     "data": {
      "text/plain": [
       "['X',\n",
       " 'Y',\n",
       " 'month',\n",
       " 'day',\n",
       " 'FFMC',\n",
       " 'DMC',\n",
       " 'DC',\n",
       " 'ISI',\n",
       " 'temp',\n",
       " 'RH',\n",
       " 'wind',\n",
       " 'rain',\n",
       " 'area']"
      ]
     },
     "execution_count": 5,
     "metadata": {},
     "output_type": "execute_result"
    }
   ],
   "source": [
    "spark_df.columns"
   ]
  },
  {
   "cell_type": "markdown",
   "metadata": {},
   "source": [
    "Selecting multiple columns is similar as well: "
   ]
  },
  {
   "cell_type": "code",
   "execution_count": 6,
   "metadata": {},
   "outputs": [
    {
     "data": {
      "text/plain": [
       "DataFrame[month: string, day: string, rain: double]"
      ]
     },
     "execution_count": 6,
     "metadata": {},
     "output_type": "execute_result"
    }
   ],
   "source": [
    "spark_df[['month','day','rain']]"
   ]
  },
  {
   "cell_type": "markdown",
   "metadata": {},
   "source": [
    "But selecting one column is different. If you want to maintain the methods of a spark DataFrame, you should use the `.select()` method. If you want to just select the column, you can use the same method you would use in pandas (this is primarily what you would use if you're attempting to create a boolean mask). "
   ]
  },
  {
   "cell_type": "code",
   "execution_count": 8,
   "metadata": {
    "scrolled": true
   },
   "outputs": [],
   "source": [
    "d = spark_df.select('rain')"
   ]
  },
  {
   "cell_type": "code",
   "execution_count": 9,
   "metadata": {},
   "outputs": [
    {
     "data": {
      "text/plain": [
       "Column<'rain'>"
      ]
     },
     "execution_count": 9,
     "metadata": {},
     "output_type": "execute_result"
    }
   ],
   "source": [
    "spark_df['rain']"
   ]
  },
  {
   "cell_type": "markdown",
   "metadata": {},
   "source": [
    "Let's take a look at all of our data types in this dataframe"
   ]
  },
  {
   "cell_type": "code",
   "execution_count": 10,
   "metadata": {},
   "outputs": [
    {
     "data": {
      "text/plain": [
       "[('X', 'int'),\n",
       " ('Y', 'int'),\n",
       " ('month', 'string'),\n",
       " ('day', 'string'),\n",
       " ('FFMC', 'double'),\n",
       " ('DMC', 'double'),\n",
       " ('DC', 'double'),\n",
       " ('ISI', 'double'),\n",
       " ('temp', 'double'),\n",
       " ('RH', 'int'),\n",
       " ('wind', 'double'),\n",
       " ('rain', 'double'),\n",
       " ('area', 'double')]"
      ]
     },
     "execution_count": 10,
     "metadata": {},
     "output_type": "execute_result"
    }
   ],
   "source": [
    "spark_df.dtypes"
   ]
  },
  {
   "cell_type": "markdown",
   "metadata": {},
   "source": [
    "## Aggregations with our DataFrame"
   ]
  },
  {
   "cell_type": "markdown",
   "metadata": {},
   "source": [
    "Let's investigate to see if there is any correlation between what month it is and the area of fire: "
   ]
  },
  {
   "cell_type": "code",
   "execution_count": 11,
   "metadata": {},
   "outputs": [
    {
     "data": {
      "text/plain": [
       "DataFrame[month: string, avg(area): double]"
      ]
     },
     "execution_count": 11,
     "metadata": {},
     "output_type": "execute_result"
    }
   ],
   "source": [
    "spark_df_months = spark_df.groupBy('month').agg({'area': 'mean'})\n",
    "spark_df_months"
   ]
  },
  {
   "cell_type": "markdown",
   "metadata": {},
   "source": [
    "Notice how the grouped DataFrame is not returned when you call the aggregation method. Remember, this is still Spark! The transformations and actions are kept separate so that it is easier to manage large quantities of data. You can perform the transformation by calling `.collect()`: "
   ]
  },
  {
   "cell_type": "code",
   "execution_count": 12,
   "metadata": {},
   "outputs": [
    {
     "data": {
      "text/plain": [
       "[Row(month='jun', avg(area)=5.841176470588234),\n",
       " Row(month='aug', avg(area)=12.489076086956521),\n",
       " Row(month='may', avg(area)=19.24),\n",
       " Row(month='feb', avg(area)=6.275),\n",
       " Row(month='sep', avg(area)=17.942616279069753),\n",
       " Row(month='mar', avg(area)=4.356666666666667),\n",
       " Row(month='oct', avg(area)=6.638),\n",
       " Row(month='jul', avg(area)=14.3696875),\n",
       " Row(month='nov', avg(area)=0.0),\n",
       " Row(month='apr', avg(area)=8.891111111111112),\n",
       " Row(month='dec', avg(area)=13.33),\n",
       " Row(month='jan', avg(area)=0.0)]"
      ]
     },
     "execution_count": 12,
     "metadata": {},
     "output_type": "execute_result"
    }
   ],
   "source": [
    "spark_df_months.collect()"
   ]
  },
  {
   "cell_type": "markdown",
   "metadata": {},
   "source": [
    "As you can see, there seem to be larger area fires during what would be considered the summer months in Portugal. On your own, practice more aggregations and manipulations that you might be able to perform on this dataset. "
   ]
  },
  {
   "cell_type": "markdown",
   "metadata": {},
   "source": [
    "## Boolean Masking \n",
    "\n",
    "Boolean masking also works with PySpark DataFrames just like Pandas DataFrames, the only difference being that the `.filter()` method is used in PySpark. To try this out, let's compare the amount of fire in those areas with absolutely no rain to those areas that had rain."
   ]
  },
  {
   "cell_type": "code",
   "execution_count": 13,
   "metadata": {},
   "outputs": [],
   "source": [
    "no_rain = spark_df.filter(spark_df['rain'] == 0.0)\n",
    "some_rain = spark_df.filter(spark_df['rain'] > 0.0)"
   ]
  },
  {
   "cell_type": "markdown",
   "metadata": {},
   "source": [
    "Now, to perform calculations to find the mean of a column, we'll have to import functions from `pyspark.sql`. As always, to read more about them, check out the [documentation](https://spark.apache.org/docs/latest/api/python/pyspark.sql.html#module-pyspark.sql.functions)."
   ]
  },
  {
   "cell_type": "code",
   "execution_count": 14,
   "metadata": {},
   "outputs": [
    {
     "name": "stdout",
     "output_type": "stream",
     "text": [
      "+------------------+\n",
      "|         avg(area)|\n",
      "+------------------+\n",
      "|13.023693516699408|\n",
      "+------------------+\n",
      "\n",
      "no rain fire area:  None \n",
      "\n",
      "+---------+\n",
      "|avg(area)|\n",
      "+---------+\n",
      "|  1.62375|\n",
      "+---------+\n",
      "\n",
      "some rain fire area:  None \n",
      "\n"
     ]
    }
   ],
   "source": [
    "from pyspark.sql.functions import mean\n",
    "\n",
    "print('no rain fire area: ', no_rain.select(mean('area')).show(),'\\n')\n",
    "\n",
    "print('some rain fire area: ', some_rain.select(mean('area')).show(),'\\n')"
   ]
  },
  {
   "cell_type": "markdown",
   "metadata": {},
   "source": [
    "Yes there's definitely something there! Unsurprisingly, rain plays in a big factor in the spread of wildfire.\n",
    "\n",
    "Let's obtain data from only the summer months in Portugal (June, July, and August). We can also do the same for the winter months in Portugal (December, January, February)."
   ]
  },
  {
   "cell_type": "code",
   "execution_count": 27,
   "metadata": {},
   "outputs": [
    {
     "name": "stdout",
     "output_type": "stream",
     "text": [
      "summer months fire area: 12.262317596566525\n",
      "winter months fire area: 7.918387096774193\n"
     ]
    }
   ],
   "source": [
    "summer_months = spark_df.filter(spark_df['month'].isin(['jun','jul','aug']))\n",
    "winter_months = spark_df.filter(spark_df['month'].isin(['dec','jan','feb']))\n",
    "\n",
    "print('summer months fire area:', summer_months.select(mean('area')).head()[0])\n",
    "print('winter months fire area:', winter_months.select(mean('area')).head()[0])"
   ]
  },
  {
   "cell_type": "markdown",
   "metadata": {},
   "source": [
    "## Machine Learning\n",
    "\n",
    "Now that we've performed some data manipulation and aggregation, lets get to the really cool stuff, machine learning! PySpark states that they've used scikit-learn as an inspiration for their implementation of a machine learning library. As a result, many of the methods and functionalities look similar, but there are some crucial distinctions. There are three main concepts found within the ML library:\n",
    "\n",
    "`Transformer`: An algorithm that transforms one PySpark DataFrame into another DataFrame. \n",
    "\n",
    "`Estimator`: An algorithm that can be fit onto a PySpark DataFrame that can then be used as a Transformer. \n",
    "\n",
    "`Pipeline`: A pipeline very similar to an `sklearn` pipeline that chains together different actions.\n",
    "\n",
    "The reasoning behind this separation of the fitting and transforming step is because Spark is lazily evaluated, so the 'fitting' of a model does not actually take place until the Transformation action is called. Let's examine what this actually looks like by performing a regression on the Forest Fire dataset. To start off with, we'll import the necessary libraries for our tasks."
   ]
  },
  {
   "cell_type": "code",
   "execution_count": 34,
   "metadata": {},
   "outputs": [
    {
     "data": {
      "text/plain": [
       "'3.1.1'"
      ]
     },
     "execution_count": 34,
     "metadata": {},
     "output_type": "execute_result"
    }
   ],
   "source": [
    "spark.version"
   ]
  },
  {
   "cell_type": "code",
   "execution_count": 35,
   "metadata": {},
   "outputs": [],
   "source": [
    "from pyspark.ml.regression import RandomForestRegressor\n",
    "from pyspark.ml import feature\n",
    "from pyspark.ml.feature import StringIndexer, VectorAssembler, OneHotEncoder"
   ]
  },
  {
   "cell_type": "markdown",
   "metadata": {},
   "source": [
    "Looking at our data, one can see that all the categories are numerical except for day and month. We saw some correlation between the month and area burned in a fire, so we will include that in our model. The day of the week, however, is highly unlikely to have any effect on fire, so we will drop it from the DataFrame."
   ]
  },
  {
   "cell_type": "code",
   "execution_count": 36,
   "metadata": {},
   "outputs": [
    {
     "data": {
      "text/plain": [
       "Row(X=7, Y=5, month='mar', FFMC=86.2, DMC=26.2, DC=94.3, ISI=5.1, temp=8.2, RH=51, wind=6.7, rain=0.0, area=0.0)"
      ]
     },
     "execution_count": 36,
     "metadata": {},
     "output_type": "execute_result"
    }
   ],
   "source": [
    "fire_df = spark_df.drop('day')\n",
    "fire_df.head()"
   ]
  },
  {
   "cell_type": "markdown",
   "metadata": {},
   "source": [
    "In order for us to run our model, we need to turn the months variable into a dummy variable. In `ml` this is a 2-step process that first requires turning the categorical variable into a numerical index (`StringIndexer`). Only after the variable is an integer can PySpark create dummy variable columns related to each category (`OneHotEncoderEstimator`). Your key parameters when using these `ml` estimators are: `inputCol` (the column you want to change) and `outputCol` (where you will store the changed column). Here it is in action: "
   ]
  },
  {
   "cell_type": "code",
   "execution_count": 37,
   "metadata": {},
   "outputs": [],
   "source": [
    "si = StringIndexer(inputCol='month', outputCol='month_num')\n",
    "model = si.fit(fire_df)\n",
    "new_df = model.transform(fire_df)"
   ]
  },
  {
   "cell_type": "markdown",
   "metadata": {},
   "source": [
    "Note the small, but critical distinction between `sklearn`'s implementation of a transformer and PySpark's implementation. `sklearn` is more object oriented and Spark is more functional oriented."
   ]
  },
  {
   "cell_type": "code",
   "execution_count": 38,
   "metadata": {},
   "outputs": [
    {
     "data": {
      "text/plain": [
       "pyspark.ml.feature.StringIndexer"
      ]
     },
     "execution_count": 38,
     "metadata": {},
     "output_type": "execute_result"
    }
   ],
   "source": [
    "## this is an estimator (an untrained transformer)\n",
    "type(si)"
   ]
  },
  {
   "cell_type": "code",
   "execution_count": 39,
   "metadata": {},
   "outputs": [
    {
     "data": {
      "text/plain": [
       "pyspark.ml.feature.StringIndexerModel"
      ]
     },
     "execution_count": 39,
     "metadata": {},
     "output_type": "execute_result"
    }
   ],
   "source": [
    "## this is a transformer (a trained transformer)\n",
    "type(model)"
   ]
  },
  {
   "cell_type": "code",
   "execution_count": 40,
   "metadata": {},
   "outputs": [
    {
     "data": {
      "text/plain": [
       "['aug',\n",
       " 'sep',\n",
       " 'mar',\n",
       " 'jul',\n",
       " 'feb',\n",
       " 'jun',\n",
       " 'oct',\n",
       " 'apr',\n",
       " 'dec',\n",
       " 'jan',\n",
       " 'may',\n",
       " 'nov']"
      ]
     },
     "execution_count": 40,
     "metadata": {},
     "output_type": "execute_result"
    }
   ],
   "source": [
    "model.labels"
   ]
  },
  {
   "cell_type": "code",
   "execution_count": 41,
   "metadata": {},
   "outputs": [
    {
     "data": {
      "text/plain": [
       "[Row(X=7, Y=5, month='mar', FFMC=86.2, DMC=26.2, DC=94.3, ISI=5.1, temp=8.2, RH=51, wind=6.7, rain=0.0, area=0.0, month_num=2.0),\n",
       " Row(X=7, Y=4, month='oct', FFMC=90.6, DMC=35.4, DC=669.1, ISI=6.7, temp=18.0, RH=33, wind=0.9, rain=0.0, area=0.0, month_num=6.0),\n",
       " Row(X=7, Y=4, month='oct', FFMC=90.6, DMC=43.7, DC=686.9, ISI=6.7, temp=14.6, RH=33, wind=1.3, rain=0.0, area=0.0, month_num=6.0),\n",
       " Row(X=8, Y=6, month='mar', FFMC=91.7, DMC=33.3, DC=77.5, ISI=9.0, temp=8.3, RH=97, wind=4.0, rain=0.2, area=0.0, month_num=2.0)]"
      ]
     },
     "execution_count": 41,
     "metadata": {},
     "output_type": "execute_result"
    }
   ],
   "source": [
    "new_df.head(4)"
   ]
  },
  {
   "cell_type": "markdown",
   "metadata": {},
   "source": [
    "As you can see, we have created a new column called `'month_num'` that represents the month by a number. Now that we have performed this step, we can use Spark's version of `OneHotEncoder()` - `OneHotEncoderEstimator()`. Let's make sure we have an accurate representation of the months."
   ]
  },
  {
   "cell_type": "code",
   "execution_count": 42,
   "metadata": {},
   "outputs": [
    {
     "data": {
      "text/plain": [
       "[Row(month_num=8.0),\n",
       " Row(month_num=0.0),\n",
       " Row(month_num=7.0),\n",
       " Row(month_num=1.0),\n",
       " Row(month_num=4.0),\n",
       " Row(month_num=11.0),\n",
       " Row(month_num=3.0),\n",
       " Row(month_num=2.0),\n",
       " Row(month_num=10.0),\n",
       " Row(month_num=6.0),\n",
       " Row(month_num=5.0),\n",
       " Row(month_num=9.0)]"
      ]
     },
     "execution_count": 42,
     "metadata": {},
     "output_type": "execute_result"
    }
   ],
   "source": [
    "new_df.select('month_num').distinct().collect()"
   ]
  },
  {
   "cell_type": "code",
   "execution_count": 44,
   "metadata": {},
   "outputs": [
    {
     "data": {
      "text/plain": [
       "Row(X=7, Y=5, month='mar', FFMC=86.2, DMC=26.2, DC=94.3, ISI=5.1, temp=8.2, RH=51, wind=6.7, rain=0.0, area=0.0, month_num=2.0, month_vec=SparseVector(11, {2: 1.0}))"
      ]
     },
     "execution_count": 44,
     "metadata": {},
     "output_type": "execute_result"
    }
   ],
   "source": [
    "## fitting and transforming the OneHotEncoderEstimator\n",
    "ohe = feature.OneHotEncoder(inputCols=['month_num'], outputCols=['month_vec'], dropLast=True)\n",
    "one_hot_encoded = ohe.fit(new_df).transform(new_df)\n",
    "one_hot_encoded.head()"
   ]
  },
  {
   "cell_type": "markdown",
   "metadata": {},
   "source": [
    "Great, we now have a OneHotEncoded sparse vector in the `'month_vec'` column! Because Spark is optimized for big data, sparse vectors are used rather than entirely new columns for dummy variables because it is more space efficient. You can see in this first row of the DataFrame:  \n",
    "\n",
    "`month_vec=SparseVector(11, {2: 1.0})` this indicates that we have a sparse vector of size 11 (because of the parameter `dropLast = True` in `OneHotEncoderEstimator()`) and this particular data point is the 2nd index of our month labels (march, based off the labels in the `model` StringEstimator transformer).  \n",
    "\n",
    "The final requirement for all machine learning models in PySpark is to put all of the features of your model into one sparse vector. This is once again for efficiency sake. Here, we are doing that with the `VectorAssembler()` estimator."
   ]
  },
  {
   "cell_type": "code",
   "execution_count": 45,
   "metadata": {},
   "outputs": [],
   "source": [
    "features = ['X',\n",
    " 'Y',\n",
    " 'FFMC',\n",
    " 'DMC',\n",
    " 'DC',\n",
    " 'ISI',\n",
    " 'temp',\n",
    " 'RH',\n",
    " 'wind',\n",
    " 'rain',\n",
    " 'month_vec']\n",
    "\n",
    "target = 'area'\n",
    "\n",
    "vector = VectorAssembler(inputCols=features, outputCol='features')\n",
    "vectorized_df = vector.transform(one_hot_encoded)"
   ]
  },
  {
   "cell_type": "code",
   "execution_count": 46,
   "metadata": {},
   "outputs": [
    {
     "data": {
      "text/plain": [
       "Row(X=7, Y=5, month='mar', FFMC=86.2, DMC=26.2, DC=94.3, ISI=5.1, temp=8.2, RH=51, wind=6.7, rain=0.0, area=0.0, month_num=2.0, month_vec=SparseVector(11, {2: 1.0}), features=SparseVector(21, {0: 7.0, 1: 5.0, 2: 86.2, 3: 26.2, 4: 94.3, 5: 5.1, 6: 8.2, 7: 51.0, 8: 6.7, 12: 1.0}))"
      ]
     },
     "execution_count": 46,
     "metadata": {},
     "output_type": "execute_result"
    }
   ],
   "source": [
    "vectorized_df.head()"
   ]
  },
  {
   "cell_type": "markdown",
   "metadata": {},
   "source": [
    "Great! We now have our data in a format that seems acceptable for the last step. It's time for us to actually fit our model to data! Let's fit a Random Forest Regression model to our data. Although there are still a bunch of other features in the DataFrame, it doesn't matter for the machine learning model API. All that needs to be specified are the names of the features column and the label column. "
   ]
  },
  {
   "cell_type": "code",
   "execution_count": 47,
   "metadata": {},
   "outputs": [],
   "source": [
    "## instantiating and fitting the model\n",
    "rf_model = RandomForestRegressor(featuresCol='features', \n",
    "                                 labelCol='area', predictionCol='prediction').fit(vectorized_df)"
   ]
  },
  {
   "cell_type": "code",
   "execution_count": 48,
   "metadata": {},
   "outputs": [
    {
     "data": {
      "text/plain": [
       "SparseVector(21, {0: 0.1531, 1: 0.1038, 2: 0.0841, 3: 0.102, 4: 0.1004, 5: 0.0865, 6: 0.1778, 7: 0.1025, 8: 0.0703, 9: 0.0, 10: 0.0019, 11: 0.0124, 12: 0.0001, 13: 0.0018, 14: 0.0, 16: 0.0001, 17: 0.0021, 18: 0.0001, 20: 0.001})"
      ]
     },
     "execution_count": 48,
     "metadata": {},
     "output_type": "execute_result"
    }
   ],
   "source": [
    "rf_model.featureImportances"
   ]
  },
  {
   "cell_type": "code",
   "execution_count": 49,
   "metadata": {},
   "outputs": [
    {
     "data": {
      "text/plain": [
       "[Row(area=0.0, prediction=7.435921784777241),\n",
       " Row(area=0.0, prediction=6.433530056645206),\n",
       " Row(area=0.0, prediction=5.793488619385723),\n",
       " Row(area=0.0, prediction=5.28593179464088),\n",
       " Row(area=0.0, prediction=6.727677447629513),\n",
       " Row(area=0.0, prediction=9.190319564969105),\n",
       " Row(area=0.0, prediction=6.13363562971303),\n",
       " Row(area=0.0, prediction=8.083020621646737),\n",
       " Row(area=0.0, prediction=9.25327954425875),\n",
       " Row(area=0.0, prediction=21.523760562076994)]"
      ]
     },
     "execution_count": 49,
     "metadata": {},
     "output_type": "execute_result"
    }
   ],
   "source": [
    "## generating predictions\n",
    "predictions = rf_model.transform(vectorized_df).select('area', 'prediction')\n",
    "predictions.head(10)"
   ]
  },
  {
   "cell_type": "markdown",
   "metadata": {},
   "source": [
    "Now we can evaluate how well the model performed using `RegressionEvaluator`."
   ]
  },
  {
   "cell_type": "code",
   "execution_count": 50,
   "metadata": {},
   "outputs": [],
   "source": [
    "from pyspark.ml.evaluation import RegressionEvaluator\n",
    "evaluator = RegressionEvaluator(predictionCol='prediction', labelCol='area')"
   ]
  },
  {
   "cell_type": "code",
   "execution_count": 51,
   "metadata": {},
   "outputs": [
    {
     "data": {
      "text/plain": [
       "0.5465602478803158"
      ]
     },
     "execution_count": 51,
     "metadata": {},
     "output_type": "execute_result"
    }
   ],
   "source": [
    "## evaluating r^2\n",
    "evaluator.evaluate(predictions,{evaluator.metricName: 'r2'})"
   ]
  },
  {
   "cell_type": "code",
   "execution_count": 52,
   "metadata": {},
   "outputs": [
    {
     "data": {
      "text/plain": [
       "13.901921791844176"
      ]
     },
     "execution_count": 52,
     "metadata": {},
     "output_type": "execute_result"
    }
   ],
   "source": [
    "## evaluating mean absolute error\n",
    "evaluator.evaluate(predictions,{evaluator.metricName: 'mae'})"
   ]
  },
  {
   "cell_type": "markdown",
   "metadata": {},
   "source": [
    "## Putting it all in a Pipeline\n",
    "\n",
    "We just performed a whole lot of transformations to our data. Let's take a look at all the estimators we used to create this model:\n",
    "\n",
    "* `StringIndexer()` \n",
    "* `OneHotEnconderEstimator()` \n",
    "* `VectorAssembler()` \n",
    "* `RandomForestRegressor()` \n",
    "\n",
    "Once we've fit our model in the Pipeline, we're then going to want to evaluate it to determine how well it performs. We can do this with:\n",
    "\n",
    "* `RegressionEvaluator()` \n",
    "\n",
    "We can streamline all of these transformations to make it much more efficient by chaining them together in a pipeline. The Pipeline object expects a list of the estimators prior set to the parameter `stages`."
   ]
  },
  {
   "cell_type": "code",
   "execution_count": 53,
   "metadata": {},
   "outputs": [],
   "source": [
    "# importing relevant libraries\n",
    "from pyspark.ml.tuning import ParamGridBuilder, TrainValidationSplit, CrossValidator\n",
    "from pyspark.ml import Pipeline"
   ]
  },
  {
   "cell_type": "code",
   "execution_count": 55,
   "metadata": {},
   "outputs": [],
   "source": [
    "## instantiating all necessary estimator objects\n",
    "\n",
    "string_indexer = StringIndexer(inputCol='month', outputCol='month_num', handleInvalid='keep')\n",
    "one_hot_encoder = OneHotEncoder(inputCols=['month_num'], outputCols=['month_vec'], dropLast=True)\n",
    "vector_assember = VectorAssembler(inputCols=features, outputCol='features')\n",
    "random_forest = RandomForestRegressor(featuresCol='features', labelCol='area')\n",
    "stages = [string_indexer, one_hot_encoder, vector_assember, random_forest]\n",
    "\n",
    "# instantiating the pipeline with all them estimator objects\n",
    "pipeline = Pipeline(stages=stages)"
   ]
  },
  {
   "cell_type": "markdown",
   "metadata": {},
   "source": [
    "### Cross-validation \n",
    "\n",
    "You might have missed a critical step in the random forest regression above; we did not cross validate or perform a train/test split! Now we're going to fix that by performing cross-validation and also testing out multiple different combinations of parameters in PySpark's `GridSearch()` equivalent. To begin with, we will create a parameter grid that contains the different parameters we want to use in our model."
   ]
  },
  {
   "cell_type": "code",
   "execution_count": 71,
   "metadata": {},
   "outputs": [],
   "source": [
    "# creating parameter grid\n",
    "\n",
    "params = ParamGridBuilder().addGrid(random_forest.maxDepth, [5, 10, 15])\n",
    ".addGrid(random_forest.numTrees, [20 ,50, 100]).build()"
   ]
  },
  {
   "cell_type": "markdown",
   "metadata": {},
   "source": [
    "Let's take a look at the params variable we just built."
   ]
  },
  {
   "cell_type": "code",
   "execution_count": 60,
   "metadata": {},
   "outputs": [
    {
     "name": "stdout",
     "output_type": "stream",
     "text": [
      "total combinations of parameters:  9\n"
     ]
    },
    {
     "data": {
      "text/plain": [
       "{Param(parent='RandomForestRegressor_52164d35c930', name='maxDepth', doc='Maximum depth of the tree. (>= 0) E.g., depth 0 means 1 leaf node; depth 1 means 1 internal node + 2 leaf nodes.'): 5,\n",
       " Param(parent='RandomForestRegressor_52164d35c930', name='numTrees', doc='Number of trees to train (>= 1).'): 20}"
      ]
     },
     "execution_count": 60,
     "metadata": {},
     "output_type": "execute_result"
    }
   ],
   "source": [
    "print('total combinations of parameters: ', len(params))\n",
    "\n",
    "params[0]"
   ]
  },
  {
   "cell_type": "markdown",
   "metadata": {},
   "source": [
    "Now it's time to combine all the steps we've created to work in a single line of code with the `CrossValidator()` estimator."
   ]
  },
  {
   "cell_type": "code",
   "execution_count": 61,
   "metadata": {},
   "outputs": [],
   "source": [
    "## instantiating the evaluator by which we will measure our model's performance\n",
    "reg_evaluator = RegressionEvaluator(predictionCol='prediction', labelCol='area', metricName = 'mae')\n",
    "\n",
    "## instantiating crossvalidator estimator\n",
    "cv = CrossValidator(estimator=pipeline, estimatorParamMaps=params, evaluator=reg_evaluator, parallelism=4)"
   ]
  },
  {
   "cell_type": "code",
   "execution_count": 62,
   "metadata": {},
   "outputs": [],
   "source": [
    "## fitting crossvalidator\n",
    "cross_validated_model = cv.fit(fire_df)"
   ]
  },
  {
   "cell_type": "markdown",
   "metadata": {},
   "source": [
    "Now, let's see how well the model performed! Let's take a look at the average performance for each one of our 9 models. It looks like the optimal performance is an MAE around 23. Note that this is worse than our original model, but that's because our original model had substantial data leakage. We didn't do a train-test split!"
   ]
  },
  {
   "cell_type": "code",
   "execution_count": 63,
   "metadata": {
    "scrolled": true
   },
   "outputs": [
    {
     "data": {
      "text/plain": [
       "[22.144452846943935,\n",
       " 21.44599967967607,\n",
       " 21.409056837953866,\n",
       " 23.06832825264121,\n",
       " 22.124628501568335,\n",
       " 21.963970024257158,\n",
       " 23.149779573264574,\n",
       " 22.233698389907236,\n",
       " 22.07775670023604]"
      ]
     },
     "execution_count": 63,
     "metadata": {},
     "output_type": "execute_result"
    }
   ],
   "source": [
    "cross_validated_model.avgMetrics"
   ]
  },
  {
   "cell_type": "markdown",
   "metadata": {},
   "source": [
    "Now, let's take a look at the optimal parameters of our best performing model. The `cross_validated_model` variable is now saved as the best performing model from the grid search just performed. Let's look to see how well the predictions performed. As you can see, this dataset has a large number of areas of \"0.0\" burned. Perhaps, it would be better to investigate this problem as a classification task."
   ]
  },
  {
   "cell_type": "code",
   "execution_count": 64,
   "metadata": {},
   "outputs": [
    {
     "name": "stdout",
     "output_type": "stream",
     "text": [
      "+------------------+-------+\n",
      "|        prediction|   area|\n",
      "+------------------+-------+\n",
      "| 6.380944032246003|    0.0|\n",
      "| 5.927778244001393|    0.0|\n",
      "| 6.029857316808119|    0.0|\n",
      "|7.2310606480690724|    0.0|\n",
      "| 6.477312237303375|    0.0|\n",
      "|14.043295248272093|    0.0|\n",
      "| 5.746544625362117|    0.0|\n",
      "| 8.714119215606525|    0.0|\n",
      "| 8.211897730926738|    0.0|\n",
      "|17.451497968633245|    0.0|\n",
      "| 6.594643274468723|    0.0|\n",
      "| 6.606156461572123|    0.0|\n",
      "| 6.494749159509029|    0.0|\n",
      "| 9.041305614027337|    0.0|\n",
      "|43.270151932115176|    0.0|\n",
      "|7.1191208831606865|    0.0|\n",
      "| 4.853519378661949|    0.0|\n",
      "| 6.907454874289538|    0.0|\n",
      "| 5.054145596027393|    0.0|\n",
      "| 4.956630742009356|    0.0|\n",
      "|10.696927942193962|    0.0|\n",
      "| 4.640510532094439|    0.0|\n",
      "| 6.382630795190351|    0.0|\n",
      "| 8.784658848970704|    0.0|\n",
      "| 7.483409861659896|    0.0|\n",
      "| 5.323212759850825|    0.0|\n",
      "| 6.997800428607218|    0.0|\n",
      "| 9.935341596266042|    0.0|\n",
      "|21.827305465394826|    0.0|\n",
      "|10.775381870862654|    0.0|\n",
      "|25.602154118604204|    0.0|\n",
      "| 7.159734696478098|    0.0|\n",
      "| 7.285592219003903|    0.0|\n",
      "|6.1326185670717575|    0.0|\n",
      "| 5.497905829120367|    0.0|\n",
      "| 6.749472485615262|    0.0|\n",
      "| 6.512158133197786|    0.0|\n",
      "| 5.713519723627443|    0.0|\n",
      "| 6.221848856036962|    0.0|\n",
      "| 4.215934005917318|    0.0|\n",
      "| 16.74662562334345|    0.0|\n",
      "| 4.879458160130585|    0.0|\n",
      "| 4.493264522643385|    0.0|\n",
      "| 5.563812679182845|    0.0|\n",
      "| 5.833879986445653|    0.0|\n",
      "| 95.60383329727098|    0.0|\n",
      "| 7.215604040210329|    0.0|\n",
      "| 5.131248851298572|    0.0|\n",
      "| 4.604340142476491|    0.0|\n",
      "| 5.264529698647778|    0.0|\n",
      "| 11.28358743819644|    0.0|\n",
      "| 4.692928794616942|    0.0|\n",
      "|4.1455746779166365|    0.0|\n",
      "|4.1455746779166365|    0.0|\n",
      "| 4.832984436045771|    0.0|\n",
      "| 13.31896007595181|    0.0|\n",
      "| 6.015809471331884|    0.0|\n",
      "| 4.439160518255142|    0.0|\n",
      "| 4.196527496133467|    0.0|\n",
      "| 6.077308265699486|    0.0|\n",
      "| 4.029318955779058|    0.0|\n",
      "| 4.714306802065347|    0.0|\n",
      "|21.918722496621832|    0.0|\n",
      "|  4.32807212410417|    0.0|\n",
      "| 5.046882470220272|    0.0|\n",
      "| 5.015311123772883|    0.0|\n",
      "|10.754873012772936|    0.0|\n",
      "|11.718431743702249|    0.0|\n",
      "|10.357299324429896|    0.0|\n",
      "|5.6647544746568395|    0.0|\n",
      "|5.0656218637589605|    0.0|\n",
      "|  6.07049583301031|    0.0|\n",
      "| 4.697227473047175|    0.0|\n",
      "| 5.558324209939786|    0.0|\n",
      "| 7.070150080119754|    0.0|\n",
      "| 9.144682607914842|    0.0|\n",
      "|  9.47947665333821|    0.0|\n",
      "| 5.602892093073372|    0.0|\n",
      "| 5.024656486975931|    0.0|\n",
      "|17.790876369247382|    0.0|\n",
      "| 8.959319360073305|    0.0|\n",
      "| 4.392143742600636|    0.0|\n",
      "|4.2852662523383644|    0.0|\n",
      "| 7.787193413064252|    0.0|\n",
      "| 6.820198089672346|    0.0|\n",
      "|15.152520985352483|    0.0|\n",
      "| 17.26056692108866|    0.0|\n",
      "| 18.92352177247511|    0.0|\n",
      "|16.823295162467357|    0.0|\n",
      "| 5.111307418082748|    0.0|\n",
      "|  5.30052647651162|    0.0|\n",
      "| 7.739765256998908|    0.0|\n",
      "|18.997294083251845|    0.0|\n",
      "|14.875162178126224|    0.0|\n",
      "|6.9047824794688895|    0.0|\n",
      "| 4.962433366593011|    0.0|\n",
      "| 4.798573448904244|    0.0|\n",
      "| 5.438460740180805|    0.0|\n",
      "| 4.492358802682568|    0.0|\n",
      "| 6.355326947642854|    0.0|\n",
      "| 6.355326947642854|    0.0|\n",
      "| 5.080102473356793|    0.0|\n",
      "| 4.624408978686768|    0.0|\n",
      "| 46.08904212797078|    0.0|\n",
      "| 4.874970585542368|    0.0|\n",
      "| 5.024538286433309|    0.0|\n",
      "| 5.006748974280344|    0.0|\n",
      "| 4.711740715758842|    0.0|\n",
      "|  5.56623191791698|    0.0|\n",
      "| 5.980033669558001|    0.0|\n",
      "| 4.768944175241601|    0.0|\n",
      "| 5.559493451305909|    0.0|\n",
      "|  7.19655885237425|    0.0|\n",
      "|5.1984014057937795|    0.0|\n",
      "| 5.255459884690721|    0.0|\n",
      "| 5.201501599465777|    0.0|\n",
      "| 4.345023304960605|    0.0|\n",
      "| 5.192828464103344|    0.0|\n",
      "| 4.706965194110673|    0.0|\n",
      "| 8.662164927469025|    0.0|\n",
      "| 5.371033054737572|    0.0|\n",
      "| 4.605561889454936|    0.0|\n",
      "| 8.699840889481365|    0.0|\n",
      "| 6.105568013713972|    0.0|\n",
      "| 5.958051621010371|    0.0|\n",
      "|7.1338256308237975|    0.0|\n",
      "| 4.399578212587015|    0.0|\n",
      "| 9.136553849369268|    0.0|\n",
      "| 5.375977158146693|    0.0|\n",
      "| 7.777262693545984|    0.0|\n",
      "| 5.232346210722771|    0.0|\n",
      "| 4.758252117680205|    0.0|\n",
      "| 4.435731123825632|    0.0|\n",
      "| 6.477334501943416|    0.0|\n",
      "| 4.015678708542857|    0.0|\n",
      "| 5.523468415358889|    0.0|\n",
      "|  8.47774425231982|    0.0|\n",
      "|7.4331810689221935|    0.0|\n",
      "|  8.46140230343904|   0.36|\n",
      "|22.330628721456968|   0.43|\n",
      "|12.586274267997606|   0.47|\n",
      "| 4.392760250628171|   0.55|\n",
      "|16.985213618163318|   0.61|\n",
      "| 8.085517069346421|   0.71|\n",
      "| 4.197781228710123|   0.77|\n",
      "| 15.07567171996983|    0.9|\n",
      "| 4.911357356403131|   0.95|\n",
      "|12.328768096146286|   0.96|\n",
      "| 3.420269623419743|   1.07|\n",
      "|20.799166767262115|   1.12|\n",
      "|20.542111818474574|   1.19|\n",
      "|15.724155341175587|   1.36|\n",
      "| 8.284501081070347|   1.43|\n",
      "| 6.157452068356894|   1.46|\n",
      "|22.802188172674004|   1.46|\n",
      "| 5.302190969395357|   1.56|\n",
      "| 11.67376637510697|   1.61|\n",
      "|3.1205165439909064|   1.63|\n",
      "|3.7792004483612907|   1.64|\n",
      "| 6.997800428607218|   1.69|\n",
      "| 6.261788302608418|   1.75|\n",
      "| 6.947148839290755|    1.9|\n",
      "|  7.95557824786456|   1.94|\n",
      "|  44.2157019709505|   1.95|\n",
      "| 6.454545764440899|   2.01|\n",
      "|  5.35032216114227|   2.14|\n",
      "| 4.144806911045424|   2.29|\n",
      "| 4.887149904916576|   2.51|\n",
      "| 8.460389325366148|   2.53|\n",
      "|14.375609506081343|   2.55|\n",
      "| 7.159579935056455|   2.57|\n",
      "| 6.670261694975631|   2.69|\n",
      "| 9.857700342979554|   2.74|\n",
      "| 9.255088631939019|   3.07|\n",
      "| 4.433843398418577|    3.5|\n",
      "| 5.297287726712858|   4.53|\n",
      "| 6.443332106122225|   4.61|\n",
      "| 4.472603913557372|   4.69|\n",
      "|5.5719750673822475|   4.88|\n",
      "| 6.871412364500518|   5.23|\n",
      "| 9.721770368968691|   5.33|\n",
      "| 7.517022598873386|   5.44|\n",
      "| 4.765999331242568|   6.38|\n",
      "|   9.1546454506366|   6.83|\n",
      "| 9.861780289798046|   6.96|\n",
      "| 10.62730216614873|   7.04|\n",
      "|10.375123397909904|   7.19|\n",
      "| 19.31018625963529|    7.3|\n",
      "| 4.469620461609798|    7.4|\n",
      "| 6.179974372410527|   8.24|\n",
      "| 5.433669133418846|   8.31|\n",
      "| 8.166338176531902|   8.68|\n",
      "| 6.701284561849621|   8.71|\n",
      "|19.912805811958652|   9.41|\n",
      "| 6.701284561849621|  10.01|\n",
      "| 5.361483037887201|  10.02|\n",
      "| 6.443332106122225|  10.93|\n",
      "|12.440551619066573|  11.06|\n",
      "| 8.378655999050737|  11.24|\n",
      "| 10.70047143030297|  11.32|\n",
      "|21.676724725595996|  11.53|\n",
      "| 4.914842934490619|   12.1|\n",
      "| 5.960686400744636|  13.05|\n",
      "|10.726224001569767|   13.7|\n",
      "| 5.189151224846612|  13.99|\n",
      "| 7.892346966076823|  14.57|\n",
      "| 7.096930188274672|  15.45|\n",
      "| 9.946836911829244|   17.2|\n",
      "| 9.996972738755497|  19.23|\n",
      "|  9.51913556124236|  23.41|\n",
      "| 9.133921039952407|  24.23|\n",
      "|10.349327391876464|   26.0|\n",
      "| 6.675476654051969|  26.13|\n",
      "| 7.423512678038808|  27.35|\n",
      "| 5.746683590054955|  28.66|\n",
      "| 5.746683590054955|  28.66|\n",
      "| 8.871457323086007|  29.48|\n",
      "| 7.955040850935448|  30.32|\n",
      "|15.330991933556872|  31.72|\n",
      "| 5.779738433887918|  31.86|\n",
      "| 7.256784946474092|  32.07|\n",
      "| 7.795408351736255|  35.88|\n",
      "| 5.844633605994163|  36.85|\n",
      "|20.230581070628787|  37.02|\n",
      "|  9.39164212279786|  37.71|\n",
      "|11.443399311851005|  48.55|\n",
      "|11.099330451810749|  49.37|\n",
      "|14.110843844939268|   58.3|\n",
      "|60.167835546393455|   64.1|\n",
      "|15.255854089762124|   71.3|\n",
      "|28.840343527960627|  88.49|\n",
      "|46.682359649547244|  95.18|\n",
      "|  13.1393675692929| 103.39|\n",
      "| 48.94130575982598| 105.66|\n",
      "|121.82369035174054| 154.88|\n",
      "| 42.65292285021399| 196.48|\n",
      "| 94.56423805323871| 200.94|\n",
      "|   78.473299035503| 212.88|\n",
      "| 683.9658793406567|1090.84|\n",
      "| 6.382365704155904|    0.0|\n",
      "| 4.682572256827109|    0.0|\n",
      "| 6.067864061207375|    0.0|\n",
      "| 5.231511555795503|  10.13|\n",
      "|11.481071299471209|    0.0|\n",
      "| 5.894115029354074|   2.87|\n",
      "|15.781486155210143|   0.76|\n",
      "|13.436677011373833|   0.09|\n",
      "| 4.334236545504577|   0.75|\n",
      "|19.671614982538244|    0.0|\n",
      "|   4.6357281692302|   2.47|\n",
      "|17.772726293356847|   0.68|\n",
      "|  6.12792802729098|   0.24|\n",
      "| 4.695227568990026|   0.21|\n",
      "| 5.665566855513671|   1.52|\n",
      "| 8.578791140568022|  10.34|\n",
      "|10.865427289642417|    0.0|\n",
      "| 9.368997354766684|   8.02|\n",
      "| 5.035316911520473|   0.68|\n",
      "|5.9386544389686495|    0.0|\n",
      "| 6.501545746496941|   1.38|\n",
      "|6.2784196161431645|   8.85|\n",
      "| 4.707038238272878|    3.3|\n",
      "| 3.930284770368768|   4.25|\n",
      "| 8.982108892100484|   1.56|\n",
      "| 5.732921520668794|   6.54|\n",
      "| 6.509800390871889|   0.79|\n",
      "| 6.615015778556994|   0.17|\n",
      "| 7.459750108924128|    0.0|\n",
      "| 4.508659363249142|    0.0|\n",
      "|5.2559855050171755|    4.4|\n",
      "| 6.448345560017916|   0.52|\n",
      "|14.300205316743279|   9.27|\n",
      "| 5.589193463965992|   3.09|\n",
      "| 7.334770463961918|   8.98|\n",
      "| 9.467429863487324|  11.19|\n",
      "| 6.140609918594254|   5.38|\n",
      "|10.920355594764043|  17.85|\n",
      "|10.191937608130788|  10.73|\n",
      "|10.920355594764043|  22.03|\n",
      "|10.920355594764043|   9.77|\n",
      "|  6.12416133292067|   9.27|\n",
      "| 11.34323201899118|  24.77|\n",
      "| 5.816201531260815|    0.0|\n",
      "| 4.278039455651918|    1.1|\n",
      "| 6.912961597824882|  24.24|\n",
      "| 9.955881626417318|    0.0|\n",
      "|22.820145835474882|    0.0|\n",
      "| 8.370875902809951|    0.0|\n",
      "|6.0405302947034265|    0.0|\n",
      "|6.1086960879019285|    0.0|\n",
      "| 6.022469104954507|    0.0|\n",
      "| 12.00755271409684|    8.0|\n",
      "|10.449211845758272|   2.64|\n",
      "| 36.90552549103555|  86.45|\n",
      "| 8.946384498955371|   6.57|\n",
      "| 8.226734646973453|    0.0|\n",
      "| 5.102033398067334|    0.9|\n",
      "|  7.30578436634099|    0.0|\n",
      "|18.053151989188688|    0.0|\n",
      "| 5.157563412402436|    0.0|\n",
      "+------------------+-------+\n",
      "only showing top 300 rows\n",
      "\n"
     ]
    }
   ],
   "source": [
    "predictions = cross_validated_model.transform(spark_df)\n",
    "predictions.select('prediction', 'area').show(300)"
   ]
  },
  {
   "cell_type": "markdown",
   "metadata": {},
   "source": [
    "Now let's go ahead and take a look at the feature importances of our random forest model. In order to do this, we need to unroll our pipeline to access the random forest model. Let's start by first checking out the `.bestModel` attribute of our `cross_validated_model`. "
   ]
  },
  {
   "cell_type": "code",
   "execution_count": 65,
   "metadata": {
    "slideshow": {
     "slide_type": "slide"
    }
   },
   "outputs": [
    {
     "data": {
      "text/plain": [
       "pyspark.ml.pipeline.PipelineModel"
      ]
     },
     "execution_count": 65,
     "metadata": {},
     "output_type": "execute_result"
    }
   ],
   "source": [
    "type(cross_validated_model.bestModel)"
   ]
  },
  {
   "cell_type": "markdown",
   "metadata": {},
   "source": [
    "`ml` is treating the entire pipeline as the best performing model, so we need to go deeper into the pipeline to access the random forest model within it. Previously, we put the random forest model as the final \"stage\" in the stages variable list. Let's look at the `.stages` attribute of the `.bestModel`."
   ]
  },
  {
   "cell_type": "code",
   "execution_count": 66,
   "metadata": {},
   "outputs": [
    {
     "data": {
      "text/plain": [
       "[StringIndexerModel: uid=StringIndexer_891eb62fef7e, handleInvalid=keep,\n",
       " OneHotEncoderModel: uid=OneHotEncoder_9b2fd8668d94, dropLast=true, handleInvalid=error, numInputCols=1, numOutputCols=1,\n",
       " VectorAssembler_19e44d9d92f0,\n",
       " RandomForestRegressionModel: uid=RandomForestRegressor_52164d35c930, numTrees=100, numFeatures=22]"
      ]
     },
     "execution_count": 66,
     "metadata": {},
     "output_type": "execute_result"
    }
   ],
   "source": [
    "cross_validated_model.bestModel.stages"
   ]
  },
  {
   "cell_type": "markdown",
   "metadata": {},
   "source": [
    "Perfect! There's the RandomForestRegressionModel, represented by the last item in the stages list. Now, we should be able to access all the attributes of the random forest regressor."
   ]
  },
  {
   "cell_type": "code",
   "execution_count": 67,
   "metadata": {},
   "outputs": [],
   "source": [
    "optimal_rf_model = cross_validated_model.bestModel.stages[3]"
   ]
  },
  {
   "cell_type": "code",
   "execution_count": 68,
   "metadata": {},
   "outputs": [
    {
     "data": {
      "text/plain": [
       "SparseVector(22, {0: 0.0692, 1: 0.1177, 2: 0.1149, 3: 0.1693, 4: 0.105, 5: 0.0696, 6: 0.1171, 7: 0.0899, 8: 0.11, 9: 0.0, 10: 0.0037, 11: 0.0237, 12: 0.0001, 13: 0.0083, 14: 0.0, 15: 0.0003, 16: 0.0001, 17: 0.0003, 18: 0.0001, 20: 0.0006})"
      ]
     },
     "execution_count": 68,
     "metadata": {},
     "output_type": "execute_result"
    }
   ],
   "source": [
    "optimal_rf_model.featureImportances"
   ]
  },
  {
   "cell_type": "code",
   "execution_count": 69,
   "metadata": {},
   "outputs": [
    {
     "data": {
      "text/plain": [
       "100"
      ]
     },
     "execution_count": 69,
     "metadata": {},
     "output_type": "execute_result"
    }
   ],
   "source": [
    "optimal_rf_model.getNumTrees"
   ]
  },
  {
   "cell_type": "markdown",
   "metadata": {},
   "source": [
    "## Summary\n",
    "\n",
    "In this lesson, you learned about PySpark's DataFrames, machine learning models, and pipelines. With the use of a pipeline, you can train a huge number of models simultaneously, saving you a substantial amount of time and effort. Up next, you will have a chance to build a PySpark machine learning pipeline of your own with a classification problem!"
   ]
  }
 ],
 "metadata": {
  "kernelspec": {
   "display_name": "Python 3",
   "language": "python",
   "name": "python3"
  },
  "language_info": {
   "codemirror_mode": {
    "name": "ipython",
    "version": 3
   },
   "file_extension": ".py",
   "mimetype": "text/x-python",
   "name": "python",
   "nbconvert_exporter": "python",
   "pygments_lexer": "ipython3",
   "version": "3.9.4"
  }
 },
 "nbformat": 4,
 "nbformat_minor": 2
}
